{
 "cells": [
  {
   "cell_type": "code",
   "execution_count": 10,
   "metadata": {
    "collapsed": false,
    "deletable": true,
    "editable": true
   },
   "outputs": [],
   "source": [
    "import re,collections\n",
    "ALPH = 'abcdefghijklmnopqrstuvwxyz'"
   ]
  },
  {
   "cell_type": "code",
   "execution_count": 15,
   "metadata": {
    "collapsed": false,
    "deletable": true,
    "editable": true
   },
   "outputs": [
    {
     "name": "stdout",
     "output_type": "stream",
     "text": [
      "1115585\n"
     ]
    }
   ],
   "source": [
    "#Return dictionary of counts words in coprpus\n",
    "def corpus_word_counts(text):\n",
    "    lower_words = re.findall(r'\\w+', text.lower())\n",
    "    return lower_words\n",
    "\n",
    "#Define constants\n",
    "WORDS = collections.Counter(corpus_word_counts(open('corpus.txt').read()))\n",
    "WORDS_COUNT = sum(WORDS.values()) \n",
    "ALPH = 'abcdefghijklmnopqrstuvwxyz'"
   ]
  },
  {
   "cell_type": "code",
   "execution_count": null,
   "metadata": {
    "collapsed": true
   },
   "outputs": [],
   "source": [
    "#Method for correction the word \n",
    "def correct(word):\n",
    "    potential_words = get_potential_words(word)\n",
    "    print(potential_words)\n",
    "    result = max(potential_words, key=count_probability)\n",
    "    return result\n"
   ]
  },
  {
   "cell_type": "code",
   "execution_count": null,
   "metadata": {
    "collapsed": true
   },
   "outputs": [],
   "source": [
    "def count_probability(word):\n",
    "    return WORDS[word] / WORDS_COUNT"
   ]
  },
  {
   "cell_type": "code",
   "execution_count": null,
   "metadata": {
    "collapsed": true
   },
   "outputs": [],
   "source": [
    "#Get the most possible words that can be results\n",
    "def get_potential_words(word):\n",
    "    return (find_in_corpus([word]) or \n",
    "            find_in_corpus(mistakes(word)) or \n",
    "            find_in_corpus(edits2(word)) or \n",
    "            [word])\n"
   ]
  },
  {
   "cell_type": "code",
   "execution_count": null,
   "metadata": {
    "collapsed": true
   },
   "outputs": [],
   "source": [
    "#Check if choosen words are in corpus\n",
    "def find_in_corpus(words):\n",
    "    set_w = set()\n",
    "    for w in words:\n",
    "        if w in WORDS:\n",
    "            set_w.update([w])\n",
    "        \n",
    "    return set_w\n"
   ]
  },
  {
   "cell_type": "code",
   "execution_count": null,
   "metadata": {
    "collapsed": true
   },
   "outputs": [],
   "source": [
    "#Check word mistakes\n",
    "def mistakes(word):\n",
    "    splits = [(word[:i], word[i:]) for i in range(len(word) + 1)]\n",
    "    return set(deleted_letters(splits) + transposed_letters(splits) + \n",
    "               replaced_letters(splits) + inserted_letters(splits))\n",
    "\n",
    "def mistakes2(word):\n",
    "    return (e2 for e1 in mistakes(word) for e2 in mistakes(e1))\n",
    "    \n",
    "def deleted_letters(splits):\n",
    "    [part1 + part2[1:] for part1, part2 in splits if part2]\n",
    "    \n",
    "def transposed_letters(splits):\n",
    "    [part1 + part2[1] + part2[0] + part2[2:] for part1, part2 in splits if len(part2)>1]\n",
    "    \n",
    "def replaced_letters(splits):\n",
    "    [part1 + c + part2[1:] for part1, part2 in splits if part2 for c in ALPH]\n",
    "    \n",
    "def inserted_letters(splits):\n",
    "    [part1 + c + part2 for part1, part2 in splits for c in ALPH]\n",
    "\n",
    "    "
   ]
  },
  {
   "cell_type": "code",
   "execution_count": null,
   "metadata": {
    "collapsed": true
   },
   "outputs": [],
   "source": []
  }
 ],
 "metadata": {
  "kernelspec": {
   "display_name": "Python 3",
   "language": "python",
   "name": "python3"
  },
  "language_info": {
   "codemirror_mode": {
    "name": "ipython",
    "version": 3
   },
   "file_extension": ".py",
   "mimetype": "text/x-python",
   "name": "python",
   "nbconvert_exporter": "python",
   "pygments_lexer": "ipython3",
   "version": "3.4.3"
  }
 },
 "nbformat": 4,
 "nbformat_minor": 2
}
